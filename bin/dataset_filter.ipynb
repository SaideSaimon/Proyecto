{
 "cells": [
  {
   "cell_type": "markdown",
   "metadata": {
    "pycharm": {
     "name": "#%% md\n"
    }
   },
   "source": [
    "### Consigna\n",
    "\n",
    "> Deberá adaptar los datos de la siguiente forma:\n",
    "> * Transformar las coordenadas en la columna “Coordenadas” a grados decimales.\n",
    "> * Se utilizarán como datos de las tarjetas: “Ubicación”, “Superficie (km²)”, “Profundidad\n",
    "máxima (m)”, “Profundidad media (m)”, “Coordenadas”. Como dato a adivinar se\n",
    "utilizará “Nombre”. Descartar el resto de las columnas.\n",
    "> * El archivo resultante deberá tener las siguientes columnas (en este orden específico):\n",
    "“Ubicación”, “Superficie (km²)”, “Profundidad máxima (m)”, “Profundidad media (m)”,\n",
    "“Coordenadas” y “Nombre”."
   ]
  },
  {
   "cell_type": "markdown",
   "metadata": {
    "pycharm": {
     "name": "#%% md\n"
    }
   },
   "source": [
    "##### · Transformar las coordenadas en la columna “Coordenadas” a grados decimales.\n",
    "\n",
    ">El siguiente módulo retorna los grados decimales(DD) convertidos del formato grados, minutos, segundos (DMS). Para obtener los elemento de cada coordenada hice uso de la expresión regular con la librería \"re\" la cual permite quedarse con cualquier elemento alfanumérico a través de la expresión \"\\W\".\n",
    "Para obtener el valor de la coordenada DD se dividen los minutos por sesenta y los segundos por sesenta al cuadrado(3600) y se suman ambos valores al grado. Si la orientación es Sur u Oeste el valor decimal se debe convertir a negativo. Esto lo realizo en la función convert que recibe una tuple con los valores de la coordenada en formato string.\n",
    "[Fuente](https://acolita.com/grados-minutos-segundos-dms-vs-grados-decimales-dd/)\n"
   ]
  },
  {
   "cell_type": "code",
   "execution_count": 1,
   "metadata": {
    "pycharm": {
     "name": "#%%\n"
    }
   },
   "outputs": [],
   "source": [
    "def get_decimal_degrees(values):\n",
    "    \"\"\" Convierte de grados,minutos,segundos a grados decimal\"\"\"\n",
    "    def convert(grade, minute, second, orientation):\n",
    "        position = int(grade) + float(minute)/60 + float(second)/3600\n",
    "        return position if orientation not in (\"O\", \"S\") else position * -1\n",
    "    return ''.join([\",\" + convert(*re.split(r\"\\W\", dms)).__format__(\".4\")\n",
    "                    for dms in values.split()])[1:]"
   ]
  },
  {
   "cell_type": "markdown",
   "metadata": {
    "pycharm": {
     "name": "#%% md\n"
    }
   },
   "source": [
    "##### · Orden: “Ubicación”, “Superficie (km²)”, “Profundidad máxima (m)”, “Profundidad media (m)”, “Coordenadas” y “Nombre”.\n",
    ">La función comb_for_the(line) llama al módulo anterior con los valores de la última columna y, luego, agregar al final el nombre del lago removiéndolo de la primera posición por cada línea del archivo."
   ]
  },
  {
   "cell_type": "code",
   "execution_count": 2,
   "metadata": {
    "pycharm": {
     "name": "#%%\n"
    }
   },
   "outputs": [],
   "source": [
    "def comb_for_the(line):\n",
    "    \"\"\"\n",
    "    Convierte a grados decimales cada elemento de la última columna y\n",
    "    pasa la primera columna al final\n",
    "    \"\"\"\n",
    "    line.append(get_decimal_degrees(line.pop()))\n",
    "    line.append(line.pop(0))\n",
    "    return line"
   ]
  },
  {
   "cell_type": "markdown",
   "metadata": {
    "pycharm": {
     "name": "#%% md\n"
    }
   },
   "source": [
    "> El módulo make_file() establece las rutas de los archivos que se van a leer y escribir, los abre en modo lectura y escritura para obtener el contenido y modificarlo antes de ser escrito."
   ]
  },
  {
   "cell_type": "code",
   "execution_count": 3,
   "metadata": {
    "pycharm": {
     "name": "#%%\n"
    }
   },
   "outputs": [],
   "source": [
    "import csv\n",
    "import os.path\n",
    "import re\n",
    "\n",
    "def make_file():\n",
    "    \"\"\"\n",
    "    Crea un archivo de texto del tipo csv con los preconceptos de la consigna dada.\n",
    "    \"\"\"\n",
    "    dir_of = os.path.join(os.getcwd()[:-len(\"bin\")], \"datasets\")\n",
    "    file_to_read = \"Lagos Argentina - Hoja 1.csv\"\n",
    "    file_to_write = \"Lagos_Argentina_filtrado.csv\"\n",
    "    read_path = os.path.join(dir_of, file_to_read)\n",
    "    writer_path = os.path.join(dir_of, file_to_write)\n",
    "    with open(read_path, 'r', encoding=\"UTF-8\") as file_r:\n",
    "        reader = csv.reader(file_r)\n",
    "        with open(writer_path, \"w\", encoding=\"UTF-8\") as file_w:\n",
    "            writer = csv.writer(file_w)\n",
    "            headers = next(reader)\n",
    "            headers.append(headers.pop(0))\n",
    "            writer.writerow(headers)\n",
    "            writer.writerows(list(map(comb_for_the, reader)))\n",
    "\n",
    "\n",
    "if __name__ == '__main__':\n",
    "    make_file()"
   ]
  },
  {
   "cell_type": "markdown",
   "metadata": {
    "pycharm": {
     "name": "#%% md\n"
    }
   },
   "source": [
    "### *Simón Palacios*"
   ]
  }
 ],
 "metadata": {
  "kernelspec": {
   "display_name": "Python 3 (ipykernel)",
   "language": "python",
   "name": "python3"
  },
  "language_info": {
   "codemirror_mode": {
    "name": "ipython",
    "version": 3
   },
   "file_extension": ".py",
   "mimetype": "text/x-python",
   "name": "python",
   "nbconvert_exporter": "python",
   "pygments_lexer": "ipython3",
   "version": "3.10.0"
  }
 },
 "nbformat": 4,
 "nbformat_minor": 1
}
