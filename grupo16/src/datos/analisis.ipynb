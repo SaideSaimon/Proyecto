{
 "cells": [
  {
   "cell_type": "markdown",
   "metadata": {
    "pycharm": {
     "name": "#%% md\n"
    }
   },
   "source": [
    "### Imports"
   ]
  },
  {
   "cell_type": "code",
   "execution_count": 1,
   "metadata": {
    "pycharm": {
     "name": "#%%\n"
    }
   },
   "outputs": [
    {
     "ename": "ModuleNotFoundError",
     "evalue": "No module named 'matplotlib'",
     "output_type": "error",
     "traceback": [
      "\u001B[1;31m---------------------------------------------------------------------------\u001B[0m",
      "\u001B[1;31mModuleNotFoundError\u001B[0m                       Traceback (most recent call last)",
      "Input \u001B[1;32mIn [1]\u001B[0m, in \u001B[0;36m<cell line: 5>\u001B[1;34m()\u001B[0m\n\u001B[0;32m      3\u001B[0m \u001B[38;5;28;01mfrom\u001B[39;00m \u001B[38;5;21;01mcollections\u001B[39;00m \u001B[38;5;28;01mimport\u001B[39;00m Counter\n\u001B[0;32m      4\u001B[0m \u001B[38;5;28;01mimport\u001B[39;00m \u001B[38;5;21;01mpandas\u001B[39;00m \u001B[38;5;28;01mas\u001B[39;00m \u001B[38;5;21;01mpd\u001B[39;00m\n\u001B[1;32m----> 5\u001B[0m \u001B[38;5;28;01mimport\u001B[39;00m \u001B[38;5;21;01mmatplotlib\u001B[39;00m\u001B[38;5;21;01m.\u001B[39;00m\u001B[38;5;21;01mpyplot\u001B[39;00m \u001B[38;5;28;01mas\u001B[39;00m \u001B[38;5;21;01mplt\u001B[39;00m\n",
      "\u001B[1;31mModuleNotFoundError\u001B[0m: No module named 'matplotlib'"
     ]
    }
   ],
   "source": [
    "import json\n",
    "import os.path\n",
    "from collections import Counter\n",
    "import pandas as pd\n",
    "import matplotlib.pyplot as plt"
   ]
  },
  {
   "cell_type": "markdown",
   "metadata": {
    "pycharm": {
     "name": "#%% md\n"
    }
   },
   "source": [
    "### Init de la clase"
   ]
  },
  {
   "cell_type": "code",
   "execution_count": 2,
   "metadata": {
    "pycharm": {
     "name": "#%%\n"
    }
   },
   "outputs": [],
   "source": [
    "class Analysis:\n",
    "    def __init__(self):\n",
    "        self.record = self.get_logs()\n",
    "        self.partidas = self.get_partidas()\n",
    "        self.users = self.get_users()\n"
   ]
  },
  {
   "cell_type": "markdown",
   "metadata": {
    "pycharm": {
     "name": "#%% md\n"
    }
   },
   "source": [
    "# Funciones generales\n"
   ]
  },
  {
   "cell_type": "markdown",
   "metadata": {
    "pycharm": {
     "name": "#%% md\n"
    }
   },
   "source": [
    "### Función get_logs:\n",
    "> Retorna el dataframe de los eventos durante las partidas"
   ]
  },
  {
   "cell_type": "code",
   "execution_count": 3,
   "metadata": {
    "pycharm": {
     "name": "#%%\n"
    }
   },
   "outputs": [],
   "source": [
    "    @staticmethod\n",
    "    def get_logs() -> pd.DataFrame:\n",
    "        path = os.path.join(os.path.abspath(os.path.dirname(__file__)),\n",
    "                            '..', 'jsons', 'records.csv')\n",
    "        return pd.read_csv(path, encoding=\"UTF-8\")"
   ]
  },
  {
   "cell_type": "markdown",
   "metadata": {
    "pycharm": {
     "name": "#%% md\n"
    }
   },
   "source": [
    "### Función get_partidas\n",
    "> Retorna una lista de dataframes en la cual cada elemento es una partida"
   ]
  },
  {
   "cell_type": "code",
   "execution_count": 4,
   "metadata": {
    "pycharm": {
     "name": "#%%\n"
    }
   },
   "outputs": [],
   "source": [
    "    def get_partidas(self):\n",
    "        \"\"\" Retorna una lista de partidas separadas por ID\"\"\"\n",
    "        return [pd.DataFrame(self.record.loc[self.record['id'] == uid])\n",
    "                for uid in self.record['id'].unique()]"
   ]
  },
  {
   "cell_type": "markdown",
   "metadata": {
    "pycharm": {
     "name": "#%% md\n"
    }
   },
   "source": [
    "### Función get_users\n",
    "> Retorna el json que contiene la información de los usuarios\n"
   ]
  },
  {
   "cell_type": "code",
   "execution_count": 5,
   "metadata": {
    "pycharm": {
     "name": "#%%\n"
    }
   },
   "outputs": [],
   "source": [
    "    @staticmethod\n",
    "    def get_users():\n",
    "        path = os.path.join(os.getcwd(), '..', 'jsons', 'users.json')\n",
    "        with open(path, 'r', encoding='UTF-8') as file:\n",
    "            return json.load(file)"
   ]
  },
  {
   "cell_type": "markdown",
   "metadata": {
    "pycharm": {
     "name": "#%% md\n"
    }
   },
   "source": [
    "### Función get_rows_cant\n",
    "> Retorna la cantidad de ocurrencias de una columna filtradas por una condición en la columna filtro:\n",
    "        >* column, estado -> 'timestamp', 'id', 'estado', 'usuario', 'evento'\n",
    "         'texto ingresado', 'respuesta', 'nivel' \n",
    "        >* cond -> 'ok', 'error', 'paso', 'inicio_partida', 'finalizada',\n",
    "         'cancelada'"
   ]
  },
  {
   "cell_type": "code",
   "execution_count": 6,
   "metadata": {
    "pycharm": {
     "name": "#%%\n"
    }
   },
   "outputs": [],
   "source": [
    "    def get_rows_cant(self, filtro: str, cond: str, *column):\n",
    "        logs = self.record\n",
    "        return logs[list(column)].loc[logs[filtro] == cond]"
   ]
  },
  {
   "cell_type": "markdown",
   "metadata": {
    "pycharm": {
     "name": "#%% md\n"
    }
   },
   "source": [
    "# Funciones Análisis"
   ]
  },
  {
   "cell_type": "markdown",
   "metadata": {
    "pycharm": {
     "name": "#%% md\n"
    }
   },
   "source": [
    "### Función _top_ten_words\n",
    ">  Top 10 de palabras que se encuentran primero de todas las partidas. Retorna una lista [palabra, cantidad de veces adivinada primero]"
   ]
  },
  {
   "cell_type": "code",
   "execution_count": 7,
   "metadata": {
    "pycharm": {
     "name": "#%%\n"
    }
   },
   "outputs": [],
   "source": [
    "    def _top_teen_words(self):\n",
    "        aciertos = self.get_rows_cant('estado', 'ok', 'texto ingresado',\n",
    "                                      'id')\n",
    "        apariciones = aciertos.groupby('id', sort=False).first()\n",
    "        conteo = Counter(apariciones['texto ingresado']).most_common(10)\n",
    "        return [[val[0], val[1]] for val in conteo]"
   ]
  },
  {
   "cell_type": "markdown",
   "metadata": {
    "pycharm": {
     "name": "#%% md\n"
    }
   },
   "source": [
    "### Función _percent_by_state\n",
    "> Genera un gráfico con el porcentaje de partidas por estado\n"
   ]
  },
  {
   "cell_type": "code",
   "execution_count": 8,
   "metadata": {
    "pycharm": {
     "name": "#%%\n"
    }
   },
   "outputs": [],
   "source": [
    "    def _percent_by_state(self):\n",
    "        values = self.record.groupby(by=self.record['estado']).size()\n",
    "        data = values.drop(['ok', 'paso'])\n",
    "        labels = list(map(lambda x: x.capitalize(), data.keys()))\n",
    "        fig, ax = plt.subplots()\n",
    "        ax.pie(list(data), labels=labels,\n",
    "               autopct=lambda val: f\"{val:.2f}%\")\n",
    "        plt.show()\n"
   ]
  },
  {
   "cell_type": "markdown",
   "metadata": {
    "pycharm": {
     "name": "#%% md\n"
    }
   },
   "source": [
    "### Función _percent_by_genere\n",
    ">Obtiene un frame con los usuarios que finalizaron las partidas y de cada uno el género para crear un gráfico con los porcentajes"
   ]
  },
  {
   "cell_type": "code",
   "execution_count": 9,
   "metadata": {
    "pycharm": {
     "name": "#%%\n"
    }
   },
   "outputs": [],
   "source": [
    "    def _percent_by_genere(self):\n",
    "        ocurrencias = self.get_rows_cant('estado', 'finalizada', 'usuario')\n",
    "        genere = pd.Series([self.users[user]['-genero-']\n",
    "                            for user in ocurrencias['usuario']])\n",
    "        genere = genere.value_counts()\n",
    "        fig, ax = plt.subplots()\n",
    "        ax.pie(genere.values, labels=genere.index,\n",
    "               autopct=lambda val: f\"{val:.2f}%\", startangle=90)\n",
    "        plt.show()"
   ]
  },
  {
   "cell_type": "markdown",
   "metadata": {
    "pycharm": {
     "name": "#%% md\n"
    }
   },
   "source": [
    "### Función get_ended_games\n",
    "> Genera un grafico de las partidas terminadas por nivel"
   ]
  },
  {
   "cell_type": "code",
   "execution_count": 10,
   "metadata": {
    "pycharm": {
     "name": "#%%\n"
    }
   },
   "outputs": [],
   "source": [
    "    def get_ended_games(self):\n",
    "        niveles_cant = {'Facil': 0, 'Normal': 0, 'Dificil': 0, 'Custom': 0}\n",
    "        niveles_fin = {'Facil': 0, 'Normal': 0, 'Dificil': 0, 'Custom': 0}\n",
    "        x = self.get_partidas()\n",
    "        for i in x:\n",
    "            niveles_cant[i['nivel'].iloc[0]] += 1\n",
    "            if i['estado'].iloc[-1] == 'finalizada':\n",
    "                niveles_fin[i['nivel'].iloc[0]] += 1\n",
    "        promedios = [float(niveles_fin[key] / val) for key, val in\n",
    "                     niveles_cant.items() if val != 0]\n",
    "        dificultades = ['Facil', 'Normal', 'Dificil', 'Custom']\n",
    "        ax = plt.subplots(figsize=(5, 2.7), layout='constrained')\n",
    "        ax.bar(dificultades, promedios)\n",
    "        plt.show()\n"
   ]
  },
  {
   "cell_type": "markdown",
   "metadata": {
    "pycharm": {
     "name": "#%% md\n"
    }
   },
   "source": [
    "### Función _time_of_ok_rounds\n",
    "> Retorna la suma de los tiempos en segundos que se tardó en dar una respuesta correcta, en caso de que no halla respuesta correcta en la partida retorna None"
   ]
  },
  {
   "cell_type": "code",
   "execution_count": 11,
   "metadata": {
    "pycharm": {
     "name": "#%%\n"
    }
   },
   "outputs": [],
   "source": [
    "    @staticmethod\n",
    "    def _time_of_ok_rounds(game) -> int:\n",
    "        t = [game['timestamp'][i] - game['timestamp'][i - 1]\n",
    "             for i in game.index[1:] if game['estado'].loc[i] == 'ok']\n",
    "        return sum(t) if t else None"
   ]
  },
  {
   "cell_type": "markdown",
   "metadata": {
    "pycharm": {
     "name": "#%% md\n"
    }
   },
   "source": [
    "### Función _time_first_answer\n",
    "> Retorna del total de tiempos de respuesta exitosa, el promedio y el promedio de tiempo de todas las partidas"
   ]
  },
  {
   "cell_type": "code",
   "execution_count": 12,
   "metadata": {
    "pycharm": {
     "name": "#%%\n"
    }
   },
   "outputs": [],
   "source": [
    "    def _time_first_answer(self):\n",
    "        tiempos_aciertos = pd.Series(map(self._time_of_ok_rounds,\n",
    "                                         self.partidas))\n",
    "        tiempos_aciertos.dropna(inplace=True)\n",
    "        return f\"Tiempo promedio aciertos: {tiempos_aciertos.mean():.2f}s\""
   ]
  },
  {
   "cell_type": "markdown",
   "metadata": {
    "pycharm": {
     "name": "#%% md\n"
    }
   },
   "source": [
    "### Función _time_of\n",
    ">  Retorna la duración de la partida"
   ]
  },
  {
   "cell_type": "code",
   "execution_count": 13,
   "metadata": {
    "pycharm": {
     "name": "#%%\n"
    }
   },
   "outputs": [],
   "source": [
    "    @staticmethod\n",
    "    def _time_of(game):\n",
    "        game.reset_index(drop=True, inplace=True)\n",
    "        return game.iloc[-1, 0] - game.iloc[0, 0]"
   ]
  },
  {
   "cell_type": "markdown",
   "metadata": {
    "pycharm": {
     "name": "#%% md\n"
    }
   },
   "source": [
    "### Función _time_general\n",
    "> Retorna el tiempo promedio por partida"
   ]
  },
  {
   "cell_type": "code",
   "execution_count": 14,
   "metadata": {
    "pycharm": {
     "name": "#%%\n"
    }
   },
   "outputs": [],
   "source": [
    "    def _time_general(self):\n",
    "        tiempos_partida = pd.Series(map(self._time_of, self.partidas))\n",
    "        return f\"Tiempo promedio por partida: {tiempos_partida.mean():.2f}s\""
   ]
  },
  {
   "cell_type": "markdown",
   "metadata": {
    "pycharm": {
     "name": "#%% md\n"
    }
   },
   "source": [
    "### Función _percent_by_users\n",
    "> Retorna el porcentaje de aciertos por usuarios\n"
   ]
  },
  {
   "cell_type": "code",
   "execution_count": 15,
   "metadata": {
    "pycharm": {
     "name": "#%%\n"
    }
   },
   "outputs": [],
   "source": [
    "    def _percent_by_users(self):\n",
    "        users = list(self.users.keys())\n",
    "        users.sort()\n",
    "        rows = self.get_rows_cant('estado', 'ok', 'usuario').value_counts()\n",
    "        index_l = [key[0] for key in rows.index]\n",
    "        index_l.sort()\n",
    "        percents = [[rows.index[i][0], val]\n",
    "                    for i, val in enumerate(self.calc_percent(rows.values))]\n",
    "        return percents if users == index_l \\\n",
    "            else percents + [[user, \"0%\"]\n",
    "                             for user in set(index_l) ^ set(users)]"
   ]
  },
  {
   "cell_type": "markdown",
   "metadata": {
    "pycharm": {
     "name": "#%% md\n"
    }
   },
   "source": [
    "### Funcion _no_answer\n",
    "> Devuelve la cantidad de tarjetas que los usuarios no respondieron (se quedó sin tiempo)\n"
   ]
  },
  {
   "cell_type": "code",
   "execution_count": 16,
   "metadata": {
    "pycharm": {
     "name": "#%%\n"
    }
   },
   "outputs": [],
   "source": [
    "\n",
    "    def _no_answer(self):\n",
    "        tiempo = self.record['estado'] == 'timeout'\n",
    "        return len(tiempo)"
   ]
  },
  {
   "cell_type": "markdown",
   "metadata": {
    "pycharm": {
     "name": "#%% md\n"
    }
   },
   "source": [
    "### Funcion _wrong_answer\n",
    "> Devuelve la cantidad de tarjetas que los usuarios respondieron mal"
   ]
  },
  {
   "cell_type": "code",
   "execution_count": 17,
   "metadata": {
    "pycharm": {
     "name": "#%%\n"
    }
   },
   "outputs": [],
   "source": [
    "    def _wrong_answer(self):\n",
    "        incorrectas = self.record[(self.record['estado'] == 'error') |\n",
    "                                  (self.record['estado'] == 'paso')]\n",
    "        return len(incorrectas)"
   ]
  },
  {
   "cell_type": "markdown",
   "metadata": {
    "pycharm": {
     "name": "#%% md\n"
    }
   },
   "source": [
    "### Función _fastest_answer\n",
    ">Devuelve el menor tiempo que se tardó en responder de forma correcta alguna tarjeta\n"
   ]
  },
  {
   "cell_type": "code",
   "execution_count": 18,
   "metadata": {
    "pycharm": {
     "name": "#%%\n"
    }
   },
   "outputs": [],
   "source": [
    "    def _fastest_answer(self):\n",
    "        return min([self.record['timestamp'].loc[i] -\n",
    "                    self.record['timestamp'].loc[i - 1]\n",
    "                    for i in self.record.index\n",
    "                    if self.record['estado'].loc[i] == 'ok'])"
   ]
  },
  {
   "cell_type": "markdown",
   "metadata": {
    "pycharm": {
     "name": "#%% md\n"
    }
   },
   "source": [
    "### Función main\n",
    "> Ejecuta todas las funciones de análisis descritas con anterioridad\n"
   ]
  },
  {
   "cell_type": "code",
   "execution_count": 19,
   "metadata": {
    "pycharm": {
     "name": "#%%\n"
    }
   },
   "outputs": [],
   "source": [
    "    def main(self):\n",
    "\n",
    "        print(\"Top 10 Palabras primero acertadas \")\n",
    "        for row in self._top_teen_words():\n",
    "            print(f\"{row[0]} {row[1]}\")\n",
    "\n",
    "        print(\"Porcentaje de partidas por estado\")\n",
    "        self._percent_by_state()\n",
    "\n",
    "        print(\"Porcentaje de partidas finalizadas por genero\")\n",
    "        self._percent_by_genere()\n",
    "\n",
    "        print(\"Porcentaje de partidas finalizadas por nivel\")\n",
    "        self.get_ended_games()\n",
    "\n",
    "        print('Tiempo de la respuesta exitosa más rápida.')\n",
    "        print(self._fastest_answer())\n",
    "\n",
    "        print('Promedio de tiempo de respuesta para respuestas exitosas.')\n",
    "        print(self._time_first_answer())\n",
    "\n",
    "        print('Promedio de tiempo de partida generales')\n",
    "        print(self._time_general())\n",
    "\n",
    "        print('Porcentaje de aciertos por usuarie.')\n",
    "        for row in self._percent_by_users():\n",
    "            print(f\"{row[0]} {row[1]}\")\n",
    "\n",
    "        print('Cantidad de tarjetas para las que el usuario '\n",
    "              'no dió respuesta (timeout)')\n",
    "        print(self._no_answer())\n",
    "\n",
    "        print('Cantidad de tarjetas en las que el usuario '\n",
    "              'dió una respuesta errónea.')\n",
    "        print(self._wrong_answer())"
   ]
  },
  {
   "cell_type": "code",
   "execution_count": 20,
   "metadata": {
    "pycharm": {
     "name": "#%%\n"
    }
   },
   "outputs": [
    {
     "ename": "AttributeError",
     "evalue": "'Analysis' object has no attribute 'get_logs'",
     "output_type": "error",
     "traceback": [
      "\u001B[1;31m---------------------------------------------------------------------------\u001B[0m",
      "\u001B[1;31mAttributeError\u001B[0m                            Traceback (most recent call last)",
      "Input \u001B[1;32mIn [20]\u001B[0m, in \u001B[0;36m<cell line: 1>\u001B[1;34m()\u001B[0m\n\u001B[1;32m----> 1\u001B[0m \u001B[43mAnalysis\u001B[49m\u001B[43m(\u001B[49m\u001B[43m)\u001B[49m\u001B[38;5;241m.\u001B[39mmain()\n",
      "Input \u001B[1;32mIn [2]\u001B[0m, in \u001B[0;36mAnalysis.__init__\u001B[1;34m(self)\u001B[0m\n\u001B[0;32m      2\u001B[0m \u001B[38;5;28;01mdef\u001B[39;00m \u001B[38;5;21m__init__\u001B[39m(\u001B[38;5;28mself\u001B[39m):\n\u001B[1;32m----> 3\u001B[0m     \u001B[38;5;28mself\u001B[39m\u001B[38;5;241m.\u001B[39mrecord \u001B[38;5;241m=\u001B[39m \u001B[38;5;28;43mself\u001B[39;49m\u001B[38;5;241;43m.\u001B[39;49m\u001B[43mget_logs\u001B[49m()\n\u001B[0;32m      4\u001B[0m     \u001B[38;5;28mself\u001B[39m\u001B[38;5;241m.\u001B[39mpartidas \u001B[38;5;241m=\u001B[39m \u001B[38;5;28mself\u001B[39m\u001B[38;5;241m.\u001B[39mget_partidas()\n\u001B[0;32m      5\u001B[0m     \u001B[38;5;28mself\u001B[39m\u001B[38;5;241m.\u001B[39musers \u001B[38;5;241m=\u001B[39m \u001B[38;5;28mself\u001B[39m\u001B[38;5;241m.\u001B[39mget_users()\n",
      "\u001B[1;31mAttributeError\u001B[0m: 'Analysis' object has no attribute 'get_logs'"
     ]
    }
   ],
   "source": [
    "Analysis().main()"
   ]
  },
  {
   "cell_type": "code",
   "execution_count": null,
   "metadata": {
    "pycharm": {
     "name": "#%%\n"
    }
   },
   "outputs": [],
   "source": []
  }
 ],
 "metadata": {
  "kernelspec": {
   "display_name": "Python 3 (ipykernel)",
   "language": "python",
   "name": "python3"
  },
  "language_info": {
   "codemirror_mode": {
    "name": "ipython",
    "version": 3
   },
   "file_extension": ".py",
   "mimetype": "text/x-python",
   "name": "python",
   "nbconvert_exporter": "python",
   "pygments_lexer": "ipython3",
   "version": "3.10.0"
  }
 },
 "nbformat": 4,
 "nbformat_minor": 2
}