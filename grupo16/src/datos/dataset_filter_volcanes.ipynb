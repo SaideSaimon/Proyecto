{
 "cells": [
  {
   "cell_type": "markdown",
   "metadata": {
    "pycharm": {
     "name": "#%% md\n"
    }
   },
   "source": [
    "### Consigna\n",
    "Deberá adaptar los datos de la siguiente forma:\n",
    "> * Traducir el tipo de volcán al español.\n",
    "> * Convertir “Flag Tsunami” y “Flag Earthquake” a booleanos, considerando que las celdas vacías corresponden al valor False.\n",
    "> * Transformar la columna “Name” en una nueva columna “Name and country” para que tenga una combinación del nombre del volcán con el país entre paréntesis. Por ejemplo el volcán “Caldera” que se encuentra ubicado en Ecuador tendrá el valor “Caldera (Ecuador)” en la columna “Name and country”.\n",
    "> * Se utilizarán como datos de las tarjetas “Year”, “Flag Tsunami”, “Flag Earthquake”, “Volcanic Explosivity Index” y “Volcano Type”. Como dato a adivinar se utilizará “Name and country”. Descartar el resto de las columnas.\n",
    "> * El archivo resultante deberá tener las siguientes columnas (en este orden específico): “Year”, “Volcanic Explosivity Index”, “Volcano Type”, “Flag Tsunami”, “Flag Earthquake” y “Name and country”"
   ]
  },
  {
   "cell_type": "markdown",
   "metadata": {},
   "source": [
    "### Módulo transformar: \n",
    ">* Es una función simple que detecta casos en un “string” es vacío o contiene algún valor y devuelve un booleano en dichos casos \n"
   ]
  },
  {
   "cell_type": "code",
   "execution_count": null,
   "metadata": {},
   "outputs": [],
   "source": [
    "def transformar(row: str) -> bool:\n",
    "    return False if row != '' else True"
   ]
  },
  {
   "cell_type": "markdown",
   "metadata": {},
   "source": [
    "### Modulo traducir:\n",
    ">* Este módulo recibe un dataframe y se busca en la fila que este indexada en la fila indicada el valor en el diccionario \"volcanes_ing\""
   ]
  },
  {
   "cell_type": "code",
   "execution_count": null,
   "metadata": {},
   "outputs": [],
   "source": [
    "def traducir(row: pd.read_csv) -> str:\n",
    "    volcanes_ing = {'Pyroclastic shield': 'Escudo piroclástico',\n",
    "                    'Caldera': 'Caldera',\n",
    "                    'Complex volcano': 'Volcán complejo',\n",
    "                    'Lava cone': 'Cono de lava',\n",
    "                    'Cinder cone': 'Cono de ceniza',\n",
    "                    'Tuff cone': 'Cono de toba',\n",
    "                    'Stratovolcano': 'Estratovolcán',\n",
    "                    'Pyroclastic cone': 'Cono piroclástico',\n",
    "                    'Fissure vent': 'Respiradero de fisura',\n",
    "                    'Pumice cone': 'Cono de piedra pómez',\n",
    "                    'Maar': 'Maar',\n",
    "                    'Subglacial volcano': 'Volcán subglacial',\n",
    "                    'Compound volcano': 'Volcán compuesto',\n",
    "                    'Submarine volcanoes': 'Volcanes submarinos',\n",
    "                    'Volcanic field': 'Campo volcánico',\n",
    "                    'Submarine volcano': 'Volcán submarino',\n",
    "                    'Lava dome': 'Domo de lava',\n",
    "                    'Mud volcano': 'Volcán de lodo',\n",
    "                    'Crater rows': 'Hileras de cráteres',\n",
    "                    'Shield volcano': 'Volcán escudo'}\n",
    "    return volcanes_ing[row['Volcano Type']]"
   ]
  },
  {
   "cell_type": "markdown",
   "metadata": {},
   "source": [
    "### Módulo unir:\n",
    ">* Recibe un dataframe y utiliza la fila indexada y las 2 columnas indicadas para retornar un \"string\""
   ]
  },
  {
   "cell_type": "code",
   "execution_count": null,
   "metadata": {},
   "outputs": [],
   "source": [
    "def unir(row: pd.read_csv) -> str:\n",
    "    return row[\"Volcano Name\"] + '(' + row[\"Country\"] + ')'"
   ]
  },
  {
   "cell_type": "markdown",
   "metadata": {
    "pycharm": {
     "name": "#%% md\n"
    }
   },
   "source": [
    "\n",
    "## Módulo cambiar(contenido):\n",
    "\n",
    ">* Se crea la lista cabecera que contendrá los nombres de las columnas necesarias y en su orden necesario.\n",
    "\n",
    ">* Se le aplica al dataframe el modulo unir, la cual se guardan los resultados en una nueva columna, y el modulo traducir  que se guarda también en una nueva columna llamada \"Traduccion\".\n",
    "\n",
    ">* Se aplica el modulo transformar al dataframe cambiando las columnas 'Flag Earthquake' y 'Flag Tsunami'\n",
    "\n",
    ">* Se eliminan las columnas 'Volcano Name', 'Country', 'Volcano Type' y se renombra la columna 'Traduccion' a 'Volcano Type'\n",
    "\n",
    ">* Por último se retorna el dataframe solo con las columnas guardadas en cabecera con su orden\n"
   ]
  },
  {
   "cell_type": "code",
   "execution_count": 1,
   "metadata": {
    "pycharm": {
     "name": "#%%\n"
    }
   },
   "outputs": [],
   "source": [
    "import pandas as pd\n",
    "from typing import List\n",
    "\n",
    "def cambiar(contenido: pd.read_csv) -> List[List[str | bool | str]]:\n",
    "    cabecera = ['Year', 'Volcanic Explosivity Index', 'Volcano Type',\n",
    "                'Flag Tsunami', 'Flag Earthquake', 'Name and Country']\n",
    "    contenido[\"Name and Country\"] = contenido.apply(unir, axis=1)\n",
    "    contenido['Traduccion'] = contenido.apply(traducir, axis=1)\n",
    "    contenido.drop(columns=['Volcano Name', 'Country', 'Volcano Type'])\n",
    "    contenido.rename(columns={'Traduccion': 'Volcano Type'})\n",
    "    contenido['Flag Earthquake'] = contenido['Flag Earthquake'].apply(transformar)\n",
    "    contenido['Flag Tsunami'] = contenido['Flag Tsunami'].apply(transformar)\n",
    "    contenido = contenido.drop(columns=['Volcano Name', 'Country', 'Volcano '\n",
    "                                                                   'Type']). \\\n",
    "        rename(columns={'Traduccion': 'Volcano Type'})\n",
    "    return contenido[cabecera]"
   ]
  },
  {
   "cell_type": "markdown",
   "metadata": {
    "pycharm": {
     "name": "#%% md\n"
    }
   },
   "source": [
    "### Módulo main():\n",
    ">* Se guarda en la variable path el camino hasta el archivo .csv de volcanes y en file se guarda el archivo .csv\n",
    "\n",
    ">* Se guarda en new_file lo que devuelve el modulo cambiar y se crea el archivo filtrado_volcanes.csv para el uso de la aplicación\n"
   ]
  },
  {
   "cell_type": "code",
   "execution_count": 6,
   "metadata": {
    "pycharm": {
     "name": "#%%\n"
    }
   },
   "outputs": [],
   "source": [
    "from Paths import GetPath\n",
    "\n",
    "\n",
    "def main() -> None:\n",
    "    path = GetPath().read_file('volcanes')\n",
    "    file = pd.read_csv(path, delimiter=';')\n",
    "    new_file = cambiar(file)\n",
    "    new_file.to_csv(GetPath().write_file('volcanes'), index=False)\n",
    "\n",
    "\n",
    "if __name__ == '__main__':\n",
    "    main()\n"
   ]
  }
 ],
 "metadata": {
  "interpreter": {
   "hash": "e6104bf604ca1a37923b4f279a3bc03307071c215727ed52dcf746e90ba65021"
  },
  "kernelspec": {
   "display_name": "Python 3.10.2 64-bit",
   "language": "python",
   "name": "python3"
  },
  "language_info": {
   "codemirror_mode": {
    "name": "ipython",
    "version": 3
   },
   "file_extension": ".py",
   "mimetype": "text/x-python",
   "name": "python",
   "nbconvert_exporter": "python",
   "pygments_lexer": "ipython3",
   "version": "3.10.2"
  },
  "orig_nbformat": 4
 },
 "nbformat": 4,
 "nbformat_minor": 2
}
