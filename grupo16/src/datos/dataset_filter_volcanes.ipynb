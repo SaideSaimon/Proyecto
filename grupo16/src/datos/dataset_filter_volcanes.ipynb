{
 "cells": [
  {
   "cell_type": "markdown",
   "metadata": {
    "pycharm": {
     "name": "#%% md\n"
    }
   },
   "source": [
    "### Consigna\n",
    "Deberá adaptar los datos de la siguiente forma:\n",
    "> * Traducir el tipo de volcán al español.\n",
    "> * Convertir “Flag Tsunami” y “Flag Earthquake” a booleanos, considerando que las celdas vacías corresponden al valor False.\n",
    "> * Transformar la columna “Name” en una nueva columna “Name and country” para que tenga una combinación del nombre del volcán con el país entre paréntesis. Por ejemplo el volcán “Caldera” que se encuentra ubicado en Ecuador tendrá el valor “Caldera (Ecuador)” en la columna “Name and country”.\n",
    "> * Se utilizarán como datos de las tarjetas “Year”, “Flag Tsunami”, “Flag Earthquake”, “Volcanic Explosivity Index” y “Volcano Type”. Como dato a adivinar se utilizará “Name and country”. Descartar el resto de las columnas.\n",
    "> * El archivo resultante deberá tener las siguientes columnas (en este orden específico): “Year”, “Volcanic Explosivity Index”, “Volcano Type”, “Flag Tsunami”, “Flag Earthquake” y “Name and country”"
   ]
  },
  {
   "cell_type": "markdown",
   "metadata": {
    "pycharm": {
     "name": "#%% md\n"
    }
   },
   "source": [
    "\n",
    "## Modulo cambiar(contenido):\n",
    "> * En el sigueinte modulo se realizan algunos de los puntos nombrados arriba. Este modulo crea una lista con los valores a almacenar en el nuevo archivo filtado con las espesificaciones de la consigna haciendo un recorrido con el iterador \"for\".\n",
    "\n",
    "  Traducir el tipo de volcán al español.\n",
    "> * Cuenta con un diccionario con las traducciones de cada tipo de volcan que se comparan con la columna 9 del dato y se almacena la traduccion de este encontrada en dicho diccionario.\n",
    "\n",
    "  Transformar la columna “Name” en una nueva columna “Name and country” para que tenga una combinación del nombre del volcán con el país entre paréntesis. Por ejemplo el volcán “Caldera” que se encuentra ubicado en Ecuador tendrá el valor “Caldera (Ecuador)” en la columna “Name and country”.\n",
    "> * Tambien se unifican las columnas 5 y 7 que contienen el lugar del volcan (columna 5) y el pais del volcan (columna 7) el cual se pone entre parentesis al lado de la ubicacion del volcan. \n",
    "\n",
    "  Convertir “Flag Tsunami” y “Flag Earthquake” a booleanos, considerando que las celdas vacías corresponden al valor False.\n",
    "> * A la hora de cargar los datos en la lista, cuando se llega a la parte de las \"Flags\" se detecta si el espacio esta vacio y se llena con un \"False\" o, en caso de que haya algun dato, se rellena con un \"True\"."
   ]
  },
  {
   "cell_type": "code",
   "execution_count": 1,
   "metadata": {
    "pycharm": {
     "name": "#%%\n"
    }
   },
   "outputs": [],
   "source": [
    "def cambiar(contenido):\n",
    "    listado = []\n",
    "    volcanes_ing = {'Pyroclastic shield': 'Escudo piroclástico',\n",
    "                    'Caldera': 'Caldera',\n",
    "                    'Complex volcano': 'Volcán complejo',\n",
    "                    'Lava cone': 'Cono de lava',\n",
    "                    'Cinder cone': 'Cono de ceniza',\n",
    "                    'Tuff cone': 'Cono de toba',\n",
    "                    'Stratovolcano': 'Estratovolcán',\n",
    "                    'Pyroclastic cone': 'Cono piroclástico',\n",
    "                    'Fissure vent': 'Respiradero de fisura',\n",
    "                    'Pumice cone': 'Cono de piedra pómez',\n",
    "                    'Maar':  'Maar',\n",
    "                    'Subglacial volcano': 'Volcán subglacial',\n",
    "                    'Compound volcano': 'Volcán compuesto',\n",
    "                    'Submarine volcanoes': 'Volcanes submarinos',\n",
    "                    'Volcanic field': 'Campo volcánico',\n",
    "                    'Submarine volcano': 'Volcán submarino',\n",
    "                    'Lava dome': 'Domo de lava',\n",
    "                    'Mud volcano':  'Volcán de lodo',\n",
    "                    'Crater rows':  'Hileras de cráteres',\n",
    "                    'Shield volcano':  'Volcán escudo'}\n",
    "    next(contenido)\n",
    "    for data in contenido:\n",
    "        nombre = data[5] + '(' + data[7] + ')'\n",
    "        aux = [data[0], data[11], volcanes_ing[data[9]],\n",
    "               True if data[3] == '' else False,\n",
    "               True if data[4] == '' else False, nombre]\n",
    "        listado.append(aux)\n",
    "    return listado"
   ]
  },
  {
   "cell_type": "markdown",
   "metadata": {
    "pycharm": {
     "name": "#%% md\n"
    }
   },
   "source": [
    "## Modulo crear(lista,cambio):\n",
    "> En el siguiente modulo se escribe sobre el archivo ya filtrado trayendo una estructura con los datos a almacenar\n",
    "Se utilizarán como datos de las tarjetas “Year”, “Flag Tsunami”, “Flag Earthquake”, “Volcanic Explosivity Index” y “Volcano Type”. Como dato a adivinar se utilizará “Name and country”. Descartar el resto de las columnas.\n",
    "> * Se crea la estructura cabecera que contiene la cabecera de la nueva estructura. La estructura lista viene con las columnas del archivo original ya filtradas y descartadas las innecesarias, por lo que hace una escritura mas rapida y cencilla al nuevo archivo."
   ]
  },
  {
   "cell_type": "code",
   "execution_count": 2,
   "metadata": {
    "pycharm": {
     "name": "#%%\n"
    }
   },
   "outputs": [],
   "source": [
    "def crear(lista, cambio):\n",
    "    cabecera = ('Year', 'Volcanic Explosivity Index', 'Volcano Type',\n",
    "                'Flag Tsunami', 'Flag Earthquake', 'Name and country')\n",
    "    cambio.writerow(cabecera)\n",
    "    for i in lista:\n",
    "        cambio.writerow(i)"
   ]
  },
  {
   "cell_type": "markdown",
   "metadata": {
    "pycharm": {
     "name": "#%% md\n"
    }
   },
   "source": [
    "### Modulo main():\n",
    "> En este modulo desarrolla todas las funciones necesarias para que el programa cumpla lo solicitado haciendo llamamientos de otros modulos y abriendo y cerrando archivos con sus respectivas formulas. Se usa la libreria \"os\" para poder hacer un camino desde el programa hacia los archivos y la libreria \"csv\" para poder trabajar sobre los archivos necesarios. Se usa tambien el encoding \"utf-8\" para el uso del archivo de lectura y el encoding \"iso-8859-1\" para la escritura de datos ya que es necesario que se reconozcan las palabras especiales (caracter \"ñ\" o volcales con tilde)"
   ]
  },
  {
   "cell_type": "code",
   "execution_count": 6,
   "metadata": {
    "pycharm": {
     "name": "#%%\n"
    }
   },
   "outputs": [],
   "source": [
    "\n",
    "import csv\n",
    "import os\n",
    "\n",
    "\n",
    "def main():\n",
    "    dir_of = os.path.join(os.getcwd(), 'datasets')\n",
    "    arch_path = os.path.join(dir_of, 'volcanic-database.csv')\n",
    "    arch_path2 = os.path.join(dir_of, 'volcanes_filtrado.csv')\n",
    "    with open(arch_path, 'r', encoding='utf-8') as archivo:\n",
    "        contenido = csv.reader(archivo, delimiter=';')\n",
    "        cambio = cambiar(contenido)\n",
    "    with open(arch_path2, 'w', encoding='utf-8') as cambiado:\n",
    "        nuevo_cont = csv.writer(cambiado, lineterminator=\"\\n\")\n",
    "        crear(cambio, nuevo_cont)\n",
    "\n",
    "\n",
    "if __name__ == '__main__':\n",
    "    main()"
   ]
  }
 ],
 "metadata": {
  "interpreter": {
   "hash": "e6104bf604ca1a37923b4f279a3bc03307071c215727ed52dcf746e90ba65021"
  },
  "kernelspec": {
   "display_name": "Python 3.10.2 64-bit",
   "language": "python",
   "name": "python3"
  },
  "language_info": {
   "codemirror_mode": {
    "name": "ipython",
    "version": 3
   },
   "file_extension": ".py",
   "mimetype": "text/x-python",
   "name": "python",
   "nbconvert_exporter": "python",
   "pygments_lexer": "ipython3",
   "version": "3.10.2"
  },
  "orig_nbformat": 4
 },
 "nbformat": 4,
 "nbformat_minor": 2
}