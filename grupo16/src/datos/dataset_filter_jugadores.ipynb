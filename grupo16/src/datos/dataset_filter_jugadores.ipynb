{
 "cells": [
  {
   "cell_type": "markdown",
   "id": "955ee9f1",
   "metadata": {
    "pycharm": {
     "name": "#%% md\n"
    }
   },
   "source": [
    "### Consigna\n",
    "Deberá adaptar los datos de la siguiente forma:\n",
    ">  Reemplazar “Potential” por la siguiente escala conceptual:\n",
    "> * Regular: Menos de 60\n",
    "> * Bueno: Entre 60 y 79 (inclusive)\n",
    "> * Muy bueno: Entre 80 y 89 (inclusive)\n",
    "> * Sobresaliente: Desde 90 en adelante.\n",
    "> * Reemplazar el valor de “Position” por las posiciones en español. Por ejemplo “LB|CB” debe ser reemplazado por “Defensor izquierdo|Defensor central”\n",
    "\n",
    "> Se utilizarán como datos de las tarjetas: “Age”, “Nationality”, “Position”, “Team” y “Potential”. Como dato a adivinar se utilizará “Name”.  Descartar el resto de las columnas.\n",
    "\n",
    "> El archivo resultante deberá tener las siguientes columnas (en este orden específico):\n",
    "“Team”, “Nationality”, “Position”, “Age”, “Potential” y “Name”.\n"
   ]
  },
  {
   "cell_type": "markdown",
   "id": "6dd2d59f",
   "metadata": {
    "pycharm": {
     "name": "#%% md\n"
    }
   },
   "source": [
    "### Diccionario:\n",
    "> Este es un diccionario con tadas las traducciones de las siglas de las posiciones que podría llegar a tener un jugador"
   ]
  },
  {
   "cell_type": "code",
   "execution_count": 1,
   "id": "8d671abc",
   "metadata": {
    "pycharm": {
     "name": "#%%\n"
    }
   },
   "outputs": [],
   "source": [
    "positions = {\"GK\": \"Portero\",\n",
    "             \"RWB\": \"Carrilero Derecho\",\n",
    "             \"RB\": \"Lateral Derecho\",\n",
    "             \"CB\": \"Defensa Central\",\n",
    "             \"LB\": \"Lateral Izquierdo\",\n",
    "             \"LWB\": \"Carrilero Izquierdo\",\n",
    "             \"CDM\": \"Medio Centro Defensivo\",\n",
    "             \"RM\": \"Medio Derecho\",\n",
    "             \"CM\": \"Medio Centro\",\n",
    "             \"LM\": \"Medio Izquierdo\",\n",
    "             \"CAM\": \"Medio Centro Ofensivo\",\n",
    "             \"RF\": \"Segundo Delantero Derecho\",\n",
    "             \"CF\": \"Media Punta\",\n",
    "             \"LF\": \"Segundo Delantero Izquierdo\",\n",
    "             \"RW\": \"Extremo Derecho\",\n",
    "             \"ST\": \"Delantero Centro\",\n",
    "             \"LW\": \"Extremo Izquierdo\"}"
   ]
  },
  {
   "cell_type": "markdown",
   "id": "011f4342",
   "metadata": {
    "pycharm": {
     "name": "#%% md\n"
    }
   },
   "source": [
    "### Módulo get_position(pos):\n",
    "\n",
    "> Este módulo retorna la traducción de la posición que se le pasa cuando se lo llama. En caso de que tenga más de una posición separa las posiciones las traduce por separado y las vuelve a unir devolviendo así un string"
   ]
  },
  {
   "cell_type": "code",
   "execution_count": 2,
   "id": "0be21043",
   "metadata": {
    "pycharm": {
     "name": "#%%\n"
    }
   },
   "outputs": [],
   "source": [
    "from Paths import GetPath\n",
    "import pandas as pd\n",
    "def get_position(pos):\n",
    "    return positions[pos] if \"|\" not in pos \\\n",
    "        else \"\".join([positions[i] + \" | \" for i in pos.split(\"|\")])"
   ]
  },
  {
   "cell_type": "markdown",
   "id": "7f54fbed",
   "metadata": {
    "pycharm": {
     "name": "#%% md\n"
    }
   },
   "source": [
    "### Módulo get_potencial(potancial):\n",
    "\n",
    "> Este módulo analiza el potencial de un jugador mediante el valor contenido en \"potencia\" que retorna un string dependiendo de qué valor tenga este mismo."
   ]
  },
  {
   "cell_type": "code",
   "execution_count": 3,
   "id": "72c977ce",
   "metadata": {
    "pycharm": {
     "name": "#%%\n"
    }
   },
   "outputs": [],
   "source": [
    "def get_potential(potencial):\n",
    "    if potencial <= 60:\n",
    "        return \"Regular\"\n",
    "    elif potencial <= 79:\n",
    "        return \"Bueno\"\n",
    "    elif potencial <= 89:\n",
    "        return \"Muy Bueno\"\n",
    "    else:\n",
    "        return \"Sobresaliente\"\n"
   ]
  },
  {
   "cell_type": "markdown",
   "id": "cf9b3dd8",
   "metadata": {
    "pycharm": {
     "name": "#%% md\n"
    }
   },
   "source": [
    "### Módulo filtrar_linea(team, country, position, age, potential, name):\n",
    "\n",
    "> Este módulo es el encargado de crear todas las líneas con su contenido con las modificaciones necesarias (por ejemplo llamando a get_position o a get_potential) para armar la estructura que se almacenara en el archivo final filtrando todas las líneas innecesarias."
   ]
  },
  {
   "cell_type": "code",
   "execution_count": 4,
   "id": "0d6a4574",
   "metadata": {
    "pycharm": {
     "name": "#%%\n"
    }
   },
   "outputs": [],
   "source": [
    "def filtrar_linea(team, country, position, age, potential, name):\n",
    "    return [team[1:-2], country, get_position(position),\n",
    "            age, get_potential(int(potential)), name]"
   ]
  },
  {
   "cell_type": "markdown",
   "id": "a91e1df6",
   "metadata": {},
   "source": [
    "### Módulo get_file(file, headers)\n",
    "> Ésta función retorna un DataFrame modificado segun la consigna. Emplea la funcion map para aplicar a cada fila del dataset la funcion \"filtrar_linea\"."
   ]
  },
  {
   "cell_type": "code",
   "execution_count": 5,
   "id": "c7a11cd4",
   "metadata": {},
   "outputs": [],
   "source": [
    "def get_file(file, headers):\n",
    "    return pd.DataFrame(map(lambda line: filtrar_linea(*line),\n",
    "                            file.values), columns=headers)"
   ]
  },
  {
   "cell_type": "markdown",
   "id": "812dd175",
   "metadata": {
    "pycharm": {
     "name": "#%% md\n"
    }
   },
   "source": [
    "### Módulo main():\n",
    "\n",
    "> Este módulo es el encargado de hacer los invocación a las funciones y de almacenar el archivo.\n",
    "Se emplea la clase GetPath que permite obtener las rutas de escritura y lectura, la funcion read_file obtiene la ruta al dataset que recibe por parámetro si existe, en caso contrario se obtiene false que permite evitar excepciones inesperadas. Por el otro lado la funcion \"write_file\" de la clase GetPath retorna la ruta al directorio donde se debe guardar el dataset ya filtrado. "
   ]
  },
  {
   "cell_type": "code",
   "execution_count": 7,
   "id": "52b50607",
   "metadata": {
    "pycharm": {
     "name": "#%%\n"
    }
   },
   "outputs": [],
   "source": [
    "def main() -> None:\n",
    "    headers = [\"team\", \"nationality\", \"position\", \"age\", \"potential\", \"name\"]\n",
    "    path = GetPath().read_file('fifa')\n",
    "    if path:\n",
    "        file = get_file(pd.read_csv(path, delimiter=';')[headers], headers)\n",
    "        file.to_csv(GetPath().write_file('fifa'), index=False)\n",
    "\n",
    "\n",
    "main()"
   ]
  }
 ],
 "metadata": {
  "interpreter": {
   "hash": "461386cdf8e404940bc4e449be1debf3ff2c91cb7e46670bb8c3c80d301fb95b"
  },
  "kernelspec": {
   "display_name": "Python 3 (ipykernel)",
   "language": "python",
   "name": "python3"
  },
  "language_info": {
   "codemirror_mode": {
    "name": "ipython",
    "version": 3
   },
   "file_extension": ".py",
   "mimetype": "text/x-python",
   "name": "python",
   "nbconvert_exporter": "python",
   "pygments_lexer": "ipython3",
   "version": "3.10.0"
  }
 },
 "nbformat": 4,
 "nbformat_minor": 5
}
