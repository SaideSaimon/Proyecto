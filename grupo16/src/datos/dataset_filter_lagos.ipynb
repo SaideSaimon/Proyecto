{
 "cells": [
  {
   "cell_type": "markdown",
   "metadata": {
    "pycharm": {
     "name": "#%% md\n"
    }
   },
   "source": [
    "### Consigna\n",
    "\n",
    "> Deberá adaptar los datos de la siguiente forma:\n",
    "> * Transformar las coordenadas en la columna “Coordenadas” a grados decimales.\n",
    "> * Se utilizarán como datos de las tarjetas: “Ubicación”, “Superficie (km²)”, “Profundidad\n",
    "máxima (m)”, “Profundidad media (m)”, “Coordenadas”. Como dato a adivinar se\n",
    "utilizará “Nombre”. Descartar el resto de las columnas.\n",
    "> * El archivo resultante deberá tener las siguientes columnas (en este orden específico):\n",
    "“Ubicación”, “Superficie (km²)”, “Profundidad máxima (m)”, “Profundidad media (m)”,\n",
    "“Coordenadas” y “Nombre”."
   ]
  },
  {
   "cell_type": "markdown",
   "metadata": {
    "pycharm": {
     "name": "#%% md\n"
    }
   },
   "source": [
    "##### · Transformar las coordenadas en la columna “Coordenadas” a grados decimales.\n",
    "\n",
    ">El siguiente módulo retorna los grados decimales(DD) convertidos del formato grados, minutos, segundos (DMS). Para obtener los elemento de cada coordenada hice de la librería \"re\" la cual permite emplear expresiónes regulares. Para este caso uso la expresion [º'\\\"] donde separa el string por los valores que se establecen entre los corchetes. \n",
    "\n",
    "\n",
    "Para obtener el valor de la coordenada DD se dividen los minutos por sesenta y los segundos por sesenta al cuadrado(3600) y se suman ambos valores al grado. Si la orientación es Sur u Oeste el valor decimal se debe convertir a negativo. Esto lo realizo en la función convert que recibe una tuple con los valores individuales de la coordenada en formato string.\n",
    "[Fuente](https://acolita.com/grados-minutos-segundos-dms-vs-grados-decimales-dd/)\n"
   ]
  },
  {
   "cell_type": "code",
   "execution_count": 1,
   "metadata": {
    "pycharm": {
     "name": "#%%\n"
    }
   },
   "outputs": [],
   "source": [
    "def convert(grade, minute, second, orientation):\n",
    "    position = int(grade) + float(minute) / 60 + float(second) / 3600\n",
    "    return position if orientation not in (\"O\", \"S\") else position * -1\n",
    "\n",
    "\n",
    "def get_decimal_degrees(values):\n",
    "    \"\"\" Convierte de grados,minutos,segundos a grados decimal\"\"\"\n",
    "    return ''.join([\",\" + convert(*re.split(\"[°'\\\"]\", dms)).__format__(\".4\")\n",
    "                    for dms in values.split()])[1:]"
   ]
  },
  {
   "cell_type": "markdown",
   "metadata": {
    "pycharm": {
     "name": "#%% md\n"
    }
   },
   "source": [
    "> El módulo make_file() usa la clase GetPath para obtener las rutas de escritura y lectura del dataset. Obtiene un DataFrame del csv al cual modifica el orden de las columnas y aplica la funcion para convertir de DMS a grados decimales."
   ]
  },
  {
   "cell_type": "code",
   "execution_count": 3,
   "metadata": {
    "pycharm": {
     "name": "#%%\n"
    }
   },
   "outputs": [],
   "source": [
    "import re\n",
    "from Paths import GetPath\n",
    "import pandas as pd\n",
    "\n",
    "\n",
    "def make_file() -> None:\n",
    "    \"\"\"\n",
    "    Crea un archivo csv con los preconceptos de la consigna dada.\n",
    "    \"\"\"\n",
    "    path = GetPath().read_file('lagos')\n",
    "    if path:\n",
    "        file = pd.read_csv(path)\n",
    "        headers = list(file.keys())\n",
    "        headers.append(headers.pop(0))\n",
    "        file = file.dropna()\n",
    "        file['Coordenadas'] = file['Coordenadas'].apply(get_decimal_degrees)\n",
    "        file = file[headers]\n",
    "        file.to_csv(GetPath().write_file('lagos'), index=False)"
   ]
  }
 ],
 "metadata": {
  "kernelspec": {
   "display_name": "Python 3 (ipykernel)",
   "language": "python",
   "name": "python3"
  },
  "language_info": {
   "codemirror_mode": {
    "name": "ipython",
    "version": 3
   },
   "file_extension": ".py",
   "mimetype": "text/x-python",
   "name": "python",
   "nbconvert_exporter": "python",
   "pygments_lexer": "ipython3",
   "version": "3.10.0"
  }
 },
 "nbformat": 4,
 "nbformat_minor": 1
}
