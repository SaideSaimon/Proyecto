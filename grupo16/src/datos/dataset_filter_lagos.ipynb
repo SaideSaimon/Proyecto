{
 "cells": [
  {
   "cell_type": "markdown",
   "metadata": {
    "pycharm": {
     "name": "#%% md\n"
    }
   },
   "source": [
    "### Consigna\n",
    "\n",
    "> Deberá adaptar los datos de la siguiente forma:\n",
    "> * Transformar las coordenadas en la columna “Coordenadas” a grados decimales.\n",
    "> * Se utilizarán como datos de las tarjetas: “Ubicación”, “Superficie (km²)”, “Profundidad\n",
    "máxima (m)”, “Profundidad media (m)”, “Coordenadas”. Como dato a adivinar se\n",
    "utilizará “Nombre”. Descartar el resto de las columnas.\n",
    "> * El archivo resultante deberá tener las siguientes columnas (en este orden específico):\n",
    "“Ubicación”, “Superficie (km²)”, “Profundidad máxima (m)”, “Profundidad media (m)”,\n",
    "“Coordenadas” y “Nombre”."
   ]
  },
  {
   "cell_type": "markdown",
   "metadata": {
    "pycharm": {
     "name": "#%% md\n"
    }
   },
   "source": [
    "##### · Transformar las coordenadas en la columna “Coordenadas” a grados decimales.\n",
    "\n",
    ">El siguiente módulo retorna los grados decimales(DD) convertidos del formato grados, minutos, segundos (DMS). Para obtener los elemento de cada coordenada hice de la librería \"re\" la cual permite emplear expresiónes regulares. Para este caso uso la expresion [º'\\\"] donde separa el string por los valores que se establecen entre los corchetes. \n",
    "\n",
    "\n",
    "Para obtener el valor de la coordenada DD se dividen los minutos por sesenta y los segundos por sesenta al cuadrado(3600) y se suman ambos valores al grado. Si la orientación es Sur u Oeste el valor decimal se debe convertir a negativo. Esto lo realizo en la función convert que recibe una tuple con los valores individuales de la coordenada en formato string.\n",
    "[Fuente](https://acolita.com/grados-minutos-segundos-dms-vs-grados-decimales-dd/)\n"
   ]
  },
  {
   "cell_type": "code",
   "execution_count": 1,
   "metadata": {
    "pycharm": {
     "name": "#%%\n"
    }
   },
   "outputs": [],
   "source": [
    "def convert(grade, minute, second, orientation):\n",
    "    position = int(grade) + float(minute) / 60 + float(second) / 3600\n",
    "    return position if orientation not in (\"O\", \"S\") else position * -1\n",
    "\n",
    "\n",
    "def get_decimal_degrees(values):\n",
    "    \"\"\" Convierte de grados,minutos,segundos a grados decimal\"\"\"\n",
    "    return ''.join([\",\" + convert(*re.split(\"[°'\\\"]\", dms)).__format__(\".4\")\n",
    "                    for dms in values.split()])[1:]"
   ]
  },
  {
   "cell_type": "markdown",
   "metadata": {
    "pycharm": {
     "name": "#%% md\n"
    }
   },
   "source": [
    "##### · Orden: “Ubicación”, “Superficie (km²)”, “Profundidad máxima (m)”, “Profundidad media (m)”, “Coordenadas” y “Nombre”.\n",
    ">La función comb_for_the(line) llama al módulo anterior con los valores de la última columna y, luego, agrega al final el nombre del lago removiéndolo de la primera posición por cada línea del archivo."
   ]
  },
  {
   "cell_type": "code",
   "execution_count": 2,
   "metadata": {
    "pycharm": {
     "name": "#%%\n"
    }
   },
   "outputs": [],
   "source": [
    "def comb_for_the(line):\n",
    "    \"\"\"\n",
    "    Convierte a grados decimales cada elemento de la última columna y\n",
    "    pasa la primera columna al final\n",
    "    \"\"\"\n",
    "    line.append(get_decimal_degrees(line.pop()))\n",
    "    line.append(line.pop(0))\n",
    "    return line"
   ]
  },
  {
   "cell_type": "markdown",
   "metadata": {
    "pycharm": {
     "name": "#%% md\n"
    }
   },
   "source": [
    "> El módulo make_file() establece las rutas de los archivos que se van a leer y escribir, los abre en modo lectura y escritura para obtener el contenido y modificarlo antes de ser escrito."
   ]
  },
  {
   "cell_type": "code",
   "execution_count": 3,
   "metadata": {
    "pycharm": {
     "name": "#%%\n"
    }
   },
   "outputs": [
    {
     "ename": "NameError",
     "evalue": "name '__file__' is not defined",
     "output_type": "error",
     "traceback": [
      "\u001B[1;31m---------------------------------------------------------------------------\u001B[0m",
      "\u001B[1;31mNameError\u001B[0m                                 Traceback (most recent call last)",
      "Input \u001B[1;32mIn [3]\u001B[0m, in \u001B[0;36m<cell line: 27>\u001B[1;34m()\u001B[0m\n\u001B[0;32m     24\u001B[0m             writer\u001B[38;5;241m.\u001B[39mwriterows(\u001B[38;5;28mlist\u001B[39m(\u001B[38;5;28mmap\u001B[39m(comb_for_the, reader)))\n\u001B[0;32m     27\u001B[0m \u001B[38;5;28;01mif\u001B[39;00m \u001B[38;5;18m__name__\u001B[39m \u001B[38;5;241m==\u001B[39m \u001B[38;5;124m'\u001B[39m\u001B[38;5;124m__main__\u001B[39m\u001B[38;5;124m'\u001B[39m:\n\u001B[1;32m---> 28\u001B[0m     \u001B[43mmake_file\u001B[49m\u001B[43m(\u001B[49m\u001B[43m)\u001B[49m\n",
      "Input \u001B[1;32mIn [3]\u001B[0m, in \u001B[0;36mmake_file\u001B[1;34m()\u001B[0m\n\u001B[0;32m      6\u001B[0m \u001B[38;5;28;01mdef\u001B[39;00m \u001B[38;5;21mmake_file\u001B[39m():\n\u001B[0;32m      7\u001B[0m     \u001B[38;5;124;03m\"\"\"\u001B[39;00m\n\u001B[0;32m      8\u001B[0m \u001B[38;5;124;03m    Crea un archivo de texto del tipo csv con los preconceptos\u001B[39;00m\n\u001B[0;32m      9\u001B[0m \u001B[38;5;124;03m    de la consigna dada.\u001B[39;00m\n\u001B[0;32m     10\u001B[0m \u001B[38;5;124;03m    \"\"\"\u001B[39;00m\n\u001B[1;32m---> 11\u001B[0m     base_path \u001B[38;5;241m=\u001B[39m os\u001B[38;5;241m.\u001B[39mpath\u001B[38;5;241m.\u001B[39mabspath(os\u001B[38;5;241m.\u001B[39mpath\u001B[38;5;241m.\u001B[39mdirname(\u001B[38;5;18;43m__file__\u001B[39;49m))\n\u001B[0;32m     12\u001B[0m     dir_of \u001B[38;5;241m=\u001B[39m os\u001B[38;5;241m.\u001B[39mpath\u001B[38;5;241m.\u001B[39mjoin(base_path, \u001B[38;5;124m'\u001B[39m\u001B[38;5;124mdatasets\u001B[39m\u001B[38;5;124m'\u001B[39m)\n\u001B[0;32m     13\u001B[0m     file_to_read \u001B[38;5;241m=\u001B[39m \u001B[38;5;124m\"\u001B[39m\u001B[38;5;124mLagos Argentina - Hoja 1.csv\u001B[39m\u001B[38;5;124m\"\u001B[39m\n",
      "\u001B[1;31mNameError\u001B[0m: name '__file__' is not defined"
     ]
    }
   ],
   "source": [
    "import csv\n",
    "import os.path\n",
    "import re\n",
    "\n",
    "\n",
    "def make_file():\n",
    "    \"\"\"\n",
    "    Crea un archivo de texto del tipo csv con los preconceptos\n",
    "    de la consigna dada.\n",
    "    \"\"\"\n",
    "\n",
    "    dir_of = os.path.join(os.getcwd(), 'datasets')\n",
    "    read_path = os.path.join(dir_of, \"Lagos Argentina - Hoja 1.csv\")\n",
    "    writer_path = os.path.join(dir_of, \"Lagos_Argentina_fltrado.csv\")\n",
    "    with open(read_path, 'r', encoding=\"UTF-8\") as file_r:\n",
    "        reader = csv.reader(file_r)\n",
    "        with open(writer_path, \"w\", encoding=\"UTF-8\") as file_w:\n",
    "            writer = csv.writer(file_w, lineterminator=\"\\n\")\n",
    "            headers = next(reader)\n",
    "            headers.append(headers.pop(0))\n",
    "            writer.writerow(headers)\n",
    "            writer.writerows(list(map(comb_for_the, reader)))\n"
   ]
  },
  {
   "cell_type": "markdown",
   "metadata": {
    "pycharm": {
     "name": "#%% md\n"
    }
   },
   "source": [
    "### *Simón Palacios*"
   ]
  }
 ],
 "metadata": {
  "kernelspec": {
   "display_name": "Python 3 (ipykernel)",
   "language": "python",
   "name": "python3"
  },
  "language_info": {
   "codemirror_mode": {
    "name": "ipython",
    "version": 3
   },
   "file_extension": ".py",
   "mimetype": "text/x-python",
   "name": "python",
   "nbconvert_exporter": "python",
   "pygments_lexer": "ipython3",
   "version": "3.10.0"
  }
 },
 "nbformat": 4,
 "nbformat_minor": 1
}